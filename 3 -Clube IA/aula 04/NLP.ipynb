{
 "cells": [
  {
   "cell_type": "code",
   "execution_count": null,
   "id": "ac5e2f24-1729-4fee-b108-1ab62081ff64",
   "metadata": {
    "tags": []
   },
   "outputs": [],
   "source": [
    "!pip install nltk\n",
    "!pip install textblob\n",
    "!pip install wordcloud\n",
    "!python -m textblob.download_corpora\n",
    "!pip install vaderSentiment\n",
    "!pip install transformers\n",
    "!pip install leia-br"
   ]
  },
  {
   "cell_type": "code",
   "execution_count": 1,
   "id": "a69f6efa-3597-487c-9a69-ca1e37c71d73",
   "metadata": {
    "tags": []
   },
   "outputs": [],
   "source": [
    "import pandas as pd\n",
    "df = pd.read_json('./noticias.json')"
   ]
  },
  {
   "cell_type": "code",
   "execution_count": 2,
   "id": "2c8d4cdb-91b3-428c-8f2e-1544bc49596d",
   "metadata": {
    "tags": []
   },
   "outputs": [
    {
     "data": {
      "text/html": [
       "<div>\n",
       "<style scoped>\n",
       "    .dataframe tbody tr th:only-of-type {\n",
       "        vertical-align: middle;\n",
       "    }\n",
       "\n",
       "    .dataframe tbody tr th {\n",
       "        vertical-align: top;\n",
       "    }\n",
       "\n",
       "    .dataframe thead th {\n",
       "        text-align: right;\n",
       "    }\n",
       "</style>\n",
       "<table border=\"1\" class=\"dataframe\">\n",
       "  <thead>\n",
       "    <tr style=\"text-align: right;\">\n",
       "      <th></th>\n",
       "      <th>noticia</th>\n",
       "      <th>url</th>\n",
       "      <th>titulo</th>\n",
       "    </tr>\n",
       "  </thead>\n",
       "  <tbody>\n",
       "    <tr>\n",
       "      <th>0</th>\n",
       "      <td>O projeto encontra-se em sua segunda edição e ...</td>\n",
       "      <td>http://www.gravatai.ifsul.edu.br/ultimas-notic...</td>\n",
       "      <td>Câmpus Gravataí e NTE/SMED realizam aula inaug...</td>\n",
       "    </tr>\n",
       "    <tr>\n",
       "      <th>1</th>\n",
       "      <td>Recesso por período de férias de servidores(as...</td>\n",
       "      <td>http://www.gravatai.ifsul.edu.br/ultimas-notic...</td>\n",
       "      <td>Horário Especial de Funcionamento</td>\n",
       "    </tr>\n",
       "    <tr>\n",
       "      <th>2</th>\n",
       "      <td>As atividades ocorreram no dia 06 de junho. De...</td>\n",
       "      <td>http://www.gravatai.ifsul.edu.br/ultimas-notic...</td>\n",
       "      <td>2º Fórum Ambiental do Câmpus Gravataí / IFSul</td>\n",
       "    </tr>\n",
       "    <tr>\n",
       "      <th>3</th>\n",
       "      <td>Nos dias 09, 10 e 11 de outubro, o IFSul Grava...</td>\n",
       "      <td>http://www.gravatai.ifsul.edu.br/ultimas-notic...</td>\n",
       "      <td>V Semana Acadêmica 2023 do IFSUL Câmpus Gravataí</td>\n",
       "    </tr>\n",
       "    <tr>\n",
       "      <th>4</th>\n",
       "      <td>Mantendo o histórico de sucessivas conquistas,...</td>\n",
       "      <td>http://www.gravatai.ifsul.edu.br/ultimas-notic...</td>\n",
       "      <td>Trabalhos do Campus Gravataí conquistam dois p...</td>\n",
       "    </tr>\n",
       "  </tbody>\n",
       "</table>\n",
       "</div>"
      ],
      "text/plain": [
       "                                             noticia  \\\n",
       "0  O projeto encontra-se em sua segunda edição e ...   \n",
       "1  Recesso por período de férias de servidores(as...   \n",
       "2  As atividades ocorreram no dia 06 de junho. De...   \n",
       "3  Nos dias 09, 10 e 11 de outubro, o IFSul Grava...   \n",
       "4  Mantendo o histórico de sucessivas conquistas,...   \n",
       "\n",
       "                                                 url  \\\n",
       "0  http://www.gravatai.ifsul.edu.br/ultimas-notic...   \n",
       "1  http://www.gravatai.ifsul.edu.br/ultimas-notic...   \n",
       "2  http://www.gravatai.ifsul.edu.br/ultimas-notic...   \n",
       "3  http://www.gravatai.ifsul.edu.br/ultimas-notic...   \n",
       "4  http://www.gravatai.ifsul.edu.br/ultimas-notic...   \n",
       "\n",
       "                                              titulo  \n",
       "0  Câmpus Gravataí e NTE/SMED realizam aula inaug...  \n",
       "1                  Horário Especial de Funcionamento  \n",
       "2      2º Fórum Ambiental do Câmpus Gravataí / IFSul  \n",
       "3   V Semana Acadêmica 2023 do IFSUL Câmpus Gravataí  \n",
       "4  Trabalhos do Campus Gravataí conquistam dois p...  "
      ]
     },
     "execution_count": 2,
     "metadata": {},
     "output_type": "execute_result"
    }
   ],
   "source": [
    "df.head()"
   ]
  },
  {
   "cell_type": "markdown",
   "id": "6deee930-9ed2-42aa-bca9-723646252331",
   "metadata": {},
   "source": [
    "# Nuvem de palavras"
   ]
  },
  {
   "cell_type": "code",
   "execution_count": 40,
   "id": "fc12f50b-01d5-49f1-9e95-9c7251c18bed",
   "metadata": {
    "tags": []
   },
   "outputs": [],
   "source": [
    "import nltk\n",
    "from nltk.corpus import stopwords\n",
    "\n",
    "stop_words = set(stopwords.words('portuguese')) # + ['Gravataí', 'Câmpus', 'IFSul', 'divulga'])\n",
    "\n",
    "\n",
    "def remove_stop_words(sentence):\n",
    "  # Split the sentence into individual words\n",
    "  words = sentence.split()\n",
    "\n",
    "  # Use a list comprehension to remove stop words\n",
    "  filtered_words = [word for word in words if word not in stop_words]\n",
    "\n",
    "  # Join the filtered words back into a sentence\n",
    "  return ' '.join(filtered_words)"
   ]
  },
  {
   "cell_type": "code",
   "execution_count": 41,
   "id": "f0f13c02-b8a0-4865-96a0-c3d0867940c6",
   "metadata": {
    "tags": []
   },
   "outputs": [],
   "source": [
    "texto = ''\n",
    "for t in df['titulo'].values:\n",
    "  texto += ' ' + remove_stop_words(t)"
   ]
  },
  {
   "cell_type": "code",
   "execution_count": 42,
   "id": "5681886a-1830-49fa-80c4-0addca2de42a",
   "metadata": {
    "tags": []
   },
   "outputs": [
    {
     "data": {
      "image/png": "[encoded data removed]",
      "text/plain": [
       "<PIL.Image.Image image mode=RGB size=800x400>"
      ]
     },
     "execution_count": 42,
     "metadata": {},
     "output_type": "execute_result"
    }
   ],
   "source": [
    "from wordcloud import WordCloud\n",
    "\n",
    "wc = WordCloud(width=800, height=400, max_words=50)\n",
    "\n",
    "wc.generate_from_text(texto).to_image()"
   ]
  },
  {
   "cell_type": "markdown",
   "id": "4bc15edc-9d1e-42bc-9ee6-4c921fb9155d",
   "metadata": {},
   "source": [
    "# Tradução e sentimento com Textblob"
   ]
  },
  {
   "cell_type": "code",
   "execution_count": 6,
   "id": "8a46d5c7-49f1-413f-ae90-3c5a33ffabb4",
   "metadata": {
    "tags": []
   },
   "outputs": [],
   "source": [
    "from textblob import Sentence"
   ]
  },
  {
   "cell_type": "code",
   "execution_count": 7,
   "id": "87fdbb41-b80e-4f26-a700-fe070ff2cdbc",
   "metadata": {
    "tags": []
   },
   "outputs": [
    {
     "name": "stdout",
     "output_type": "stream",
     "text": [
      "Câmpus Gravataí e NTE/SMED realizam aula inaugural do Projeto de Extensão Formação Docente em Robótica Educacional\n",
      "Sentimento: Sentiment(polarity=0.25, subjectivity=0.25)\n",
      "Horário Especial de Funcionamento\n",
      "Sentimento: Sentiment(polarity=0.35714285714285715, subjectivity=0.5714285714285714)\n",
      "2º Fórum Ambiental do Câmpus Gravataí / IFSul\n",
      "Sentimento: Sentiment(polarity=0.0, subjectivity=0.0)\n",
      "V Semana Acadêmica 2023 do IFSUL Câmpus Gravataí\n",
      "Sentimento: Sentiment(polarity=0.0, subjectivity=0.0)\n",
      "Trabalhos do Campus Gravataí conquistam dois prêmios na XVI MOCITEC\n",
      "Sentimento: Sentiment(polarity=0.3, subjectivity=0.2)\n",
      "Projeto Descomplicando Editais 2023 divulga vídeos para promover o ingresso de estudantes na instituição\n",
      "Sentimento: Sentiment(polarity=0.0, subjectivity=0.0)\n",
      "Atenção comunidade acadêmica e externa!\n",
      "Sentimento: Sentiment(polarity=0.0, subjectivity=0.05)\n",
      "Visita dos Formandos à TECNOPUC\n",
      "Sentimento: Sentiment(polarity=0.0, subjectivity=0.0)\n",
      "NESTA SEMANA, TEM HORÁRIO ESPECIAL NO CÂMPUS GRAVATAÍ\n",
      "Sentimento: Sentiment(polarity=0.35714285714285715, subjectivity=0.5714285714285714)\n",
      "Laboratório IFMaker - Gravataí abre inscrições para participação no Projeto de Ensino Clube de Robótica e Automação.\n",
      "Sentimento: Sentiment(polarity=0.0, subjectivity=0.0)\n"
     ]
    }
   ],
   "source": [
    "for t in df[0:10]['titulo']:\n",
    "    traducao = str(Sentence(t).translate(from_lang='pt', to='en'))\n",
    "    #print('Tradução:', traducao)\n",
    "    print(t)\n",
    "    sentimento = Sentence(traducao).sentiment\n",
    "    print('Sentimento:', str(sentimento))"
   ]
  },
  {
   "cell_type": "code",
   "execution_count": 8,
   "id": "4e4c7b6b-f2e8-4388-9d40-feb7a056f015",
   "metadata": {
    "tags": []
   },
   "outputs": [
    {
     "data": {
      "text/plain": [
       "Sentiment(polarity=0.0, subjectivity=0.0)"
      ]
     },
     "execution_count": 8,
     "metadata": {},
     "output_type": "execute_result"
    }
   ],
   "source": [
    "Sentence('The address is 800, Men de Sá').sentiment"
   ]
  },
  {
   "cell_type": "code",
   "execution_count": 9,
   "id": "604959e8-ac69-4c21-8bc7-063240993a41",
   "metadata": {
    "tags": []
   },
   "outputs": [
    {
     "data": {
      "text/plain": [
       "Sentiment(polarity=-0.6999999999999998, subjectivity=0.6666666666666666)"
      ]
     },
     "execution_count": 9,
     "metadata": {},
     "output_type": "execute_result"
    }
   ],
   "source": [
    "Sentence('John is a bad person').sentiment"
   ]
  },
  {
   "cell_type": "code",
   "execution_count": 10,
   "id": "6da21cb0-82ae-4177-a044-d6e97b4fc479",
   "metadata": {
    "tags": []
   },
   "outputs": [
    {
     "data": {
      "text/plain": [
       "Sentiment(polarity=1.0, subjectivity=1.0)"
      ]
     },
     "execution_count": 10,
     "metadata": {},
     "output_type": "execute_result"
    }
   ],
   "source": [
    "Sentence('John is a wonderful person').sentiment"
   ]
  },
  {
   "cell_type": "markdown",
   "id": "f4257657-7eff-4519-ab44-6bcf71f372f8",
   "metadata": {
    "tags": []
   },
   "source": [
    "# Sentimento com Vader"
   ]
  },
  {
   "cell_type": "code",
   "execution_count": 11,
   "id": "8954f897-2cff-42c2-91e8-070111bb6241",
   "metadata": {
    "tags": []
   },
   "outputs": [],
   "source": [
    "from vaderSentiment.vaderSentiment import SentimentIntensityAnalyzer\n",
    "\n",
    "sa = SentimentIntensityAnalyzer()"
   ]
  },
  {
   "cell_type": "code",
   "execution_count": 12,
   "id": "909778ec-2f35-4649-845e-0dbac381ab80",
   "metadata": {
    "tags": []
   },
   "outputs": [
    {
     "data": {
      "text/plain": [
       "{'neg': 0.0, 'neu': 1.0, 'pos': 0.0, 'compound': 0.0}"
      ]
     },
     "execution_count": 12,
     "metadata": {},
     "output_type": "execute_result"
    }
   ],
   "source": [
    "sa.polarity_scores('The address is 800, Men de Sá')"
   ]
  },
  {
   "cell_type": "code",
   "execution_count": 13,
   "id": "41278bc9-fbaa-4f1b-8cfa-2a9e6304bf2b",
   "metadata": {
    "tags": []
   },
   "outputs": [
    {
     "data": {
      "text/plain": [
       "{'neg': 0.467, 'neu': 0.533, 'pos': 0.0, 'compound': -0.5423}"
      ]
     },
     "execution_count": 13,
     "metadata": {},
     "output_type": "execute_result"
    }
   ],
   "source": [
    "sa.polarity_scores('John is a bad person')"
   ]
  },
  {
   "cell_type": "code",
   "execution_count": 14,
   "id": "de3f2383-64a0-40de-9cd9-346a6788f8e2",
   "metadata": {
    "tags": []
   },
   "outputs": [
    {
     "data": {
      "text/plain": [
       "{'neg': 0.0, 'neu': 0.519, 'pos': 0.481, 'compound': 0.5719}"
      ]
     },
     "execution_count": 14,
     "metadata": {},
     "output_type": "execute_result"
    }
   ],
   "source": [
    "sa.polarity_scores('John is a wonderful person')"
   ]
  },
  {
   "cell_type": "markdown",
   "id": "424c52d7-bb58-4365-97cc-b42a11befb7a",
   "metadata": {
    "tags": []
   },
   "source": [
    "# Sentimento com leia-br - fork do Vader para português"
   ]
  },
  {
   "cell_type": "code",
   "execution_count": 15,
   "id": "a1ec7904-879f-4ce3-b074-c484274d6d96",
   "metadata": {
    "tags": []
   },
   "outputs": [],
   "source": [
    "from LeIA import SentimentIntensityAnalyzer \n",
    "\n",
    "leia_sa = SentimentIntensityAnalyzer()"
   ]
  },
  {
   "cell_type": "code",
   "execution_count": 16,
   "id": "0d2836f7-8b41-4a88-b381-5576b55e2dc5",
   "metadata": {
    "tags": []
   },
   "outputs": [
    {
     "data": {
      "text/plain": [
       "{'neg': 0.0, 'neu': 1.0, 'pos': 0.0, 'compound': 0.0}"
      ]
     },
     "execution_count": 16,
     "metadata": {},
     "output_type": "execute_result"
    }
   ],
   "source": [
    "leia_sa.polarity_scores('O endereço do IFSUL é Men de Sá, 800')"
   ]
  },
  {
   "cell_type": "code",
   "execution_count": 17,
   "id": "73cc9f33-5e98-411d-b749-a7515becc0e0",
   "metadata": {
    "tags": []
   },
   "outputs": [
    {
     "data": {
      "text/plain": [
       "{'neg': 0.0, 'neu': 1.0, 'pos': 0.0, 'compound': 0.0}"
      ]
     },
     "execution_count": 17,
     "metadata": {},
     "output_type": "execute_result"
    }
   ],
   "source": [
    "leia_sa.polarity_scores('João é uma má pessoa')"
   ]
  },
  {
   "cell_type": "code",
   "execution_count": 18,
   "id": "9c452ca0-c2dd-4aba-8111-67f4d8623b81",
   "metadata": {
    "tags": []
   },
   "outputs": [
    {
     "data": {
      "text/plain": [
       "{'neg': 0.0, 'neu': 0.435, 'pos': 0.565, 'compound': 0.5994}"
      ]
     },
     "execution_count": 18,
     "metadata": {},
     "output_type": "execute_result"
    }
   ],
   "source": [
    "leia_sa.polarity_scores('João é uma pessoa maravilhosa')"
   ]
  },
  {
   "cell_type": "code",
   "execution_count": 19,
   "id": "53dc2345-b4d6-4d85-ae65-26ce7a61989b",
   "metadata": {
    "tags": []
   },
   "outputs": [
    {
     "data": {
      "text/plain": [
       "{'neg': 0.672, 'neu': 0.328, 'pos': 0.0, 'compound': -0.6249}"
      ]
     },
     "execution_count": 19,
     "metadata": {},
     "output_type": "execute_result"
    }
   ],
   "source": [
    "leia_sa.polarity_scores('Aconteceu um desastre')"
   ]
  },
  {
   "cell_type": "markdown",
   "id": "df5e4273-741c-4ea0-b8f0-3e8557618271",
   "metadata": {
    "tags": []
   },
   "source": [
    "# Tradução e sentimento com Transformers"
   ]
  },
  {
   "cell_type": "code",
   "execution_count": 20,
   "id": "d34890f2-193a-4675-b42a-e6518da40b6e",
   "metadata": {
    "tags": []
   },
   "outputs": [
    {
     "name": "stderr",
     "output_type": "stream",
     "text": [
      "/Users/dias/anaconda3/lib/python3.11/site-packages/bitsandbytes/cextension.py:34: UserWarning: The installed version of bitsandbytes was compiled without GPU support. 8-bit optimizers, 8-bit multiplication, and GPU quantization are unavailable.\n",
      "  warn(\"The installed version of bitsandbytes was compiled without GPU support. \"\n"
     ]
    },
    {
     "name": "stdout",
     "output_type": "stream",
     "text": [
      "'NoneType' object has no attribute 'cadam32bit_grad_fp32'\n"
     ]
    }
   ],
   "source": [
    "from transformers import pipeline\n",
    "import torch\n",
    "\n",
    "device = \"cuda\" if torch.cuda.is_available() else \"cpu\"\n",
    "\n",
    "pipe_traducao = pipeline(\"translation\", model=\"facebook/nllb-200-distilled-600M\", device=device)"
   ]
  },
  {
   "cell_type": "code",
   "execution_count": 21,
   "id": "ecffcea4-f65a-4925-89f3-10e86b99ec2a",
   "metadata": {
    "tags": []
   },
   "outputs": [
    {
     "name": "stderr",
     "output_type": "stream",
     "text": [
      "Xformers is not installed correctly. If you want to use memory_efficient_attention to accelerate training use the following command to install Xformers\n",
      "pip install xformers.\n"
     ]
    }
   ],
   "source": [
    "from transformers import pipeline\n",
    "import torch\n",
    "\n",
    "device = \"cuda\" if torch.cuda.is_available() else \"cpu\"\n",
    "\n",
    "pipe_sentimento = pipeline(\"text-classification\", model=\"SamLowe/roberta-base-go_emotions\", device=device)"
   ]
  },
  {
   "cell_type": "code",
   "execution_count": 22,
   "id": "cce34993-f7a7-4e29-80fe-9c42828b2e73",
   "metadata": {
    "tags": []
   },
   "outputs": [
    {
     "name": "stdout",
     "output_type": "stream",
     "text": [
      "ptm.com Joãoen is a wonderful person.\n",
      "[{'label': 'admiration', 'score': 0.925193190574646}]\n"
     ]
    }
   ],
   "source": [
    "traducao = pipe_traducao('João é uma pessoa maravilhosa', src_lang='en', tgt_lang='pt', max_length=400)\n",
    "traducao = traducao[0]['translation_text']\n",
    "sentimento = pipe_sentimento(traducao)\n",
    "print(traducao)\n",
    "print(sentimento)\n"
   ]
  },
  {
   "cell_type": "code",
   "execution_count": 23,
   "id": "118f1c3d-7778-4cd2-af50-0f8e6c4b3b05",
   "metadata": {
    "tags": []
   },
   "outputs": [
    {
     "name": "stdout",
     "output_type": "stream",
     "text": [
      "ptm.com - Joãoen is a bad person.\n",
      "[{'label': 'neutral', 'score': 0.37076273560523987}]\n"
     ]
    }
   ],
   "source": [
    "traducao = pipe_traducao('João é uma má pessoa', src_lang='en', tgt_lang='pt', max_length=400)\n",
    "traducao = traducao[0]['translation_text']\n",
    "sentimento = pipe_sentimento(traducao)\n",
    "print(traducao)\n",
    "print(sentimento)\n"
   ]
  },
  {
   "cell_type": "markdown",
   "id": "1b3cd199-2886-4f25-be7d-d08b53fb9f42",
   "metadata": {},
   "source": [
    "# Resumo com Transformers"
   ]
  },
  {
   "cell_type": "code",
   "execution_count": 24,
   "id": "e3f279f6-3368-4469-895a-3a741f7090f6",
   "metadata": {
    "tags": []
   },
   "outputs": [],
   "source": [
    "# Use a pipeline as a high-level helper\n",
    "from transformers import pipeline\n",
    "\n",
    "pipe_resumo = pipeline(\"summarization\", model=\"facebook/bart-large-cnn\")"
   ]
  },
  {
   "cell_type": "code",
   "execution_count": 26,
   "id": "ade91012-0b84-4cf7-ab13-0eecf0d89b05",
   "metadata": {
    "tags": []
   },
   "outputs": [
    {
     "name": "stdout",
     "output_type": "stream",
     "text": [
      "[{'summary_text': 'Dia 14/06 iniciará, no campus Gravataí, o primeiro concurso Mickey Feio. O objetivo é premiar os três Mickeys mais feios produzidos pela comunidade discente. O prêmio principal de ter o seu desenho exposto permanentemente na escola.'}]\n",
      "\n",
      "\n",
      " Núcleo de Arte e Cultura lança concurso de desenho com temática centrada na feiura \n",
      "\n",
      " O concurso Mickey Feio do IFSul Gravataí é inspirado no evento de mesmo nome que acontece em escala internacional, organizado por Stuart Marcelo e Cecília Torres. Dia 14/06 iniciará, no campus Gravataí, o primeiro concurso Mickey Feio, organizado pelo Núcleo de Arte e Cultura, coordenado pelo professor Ítalo Franco Costa. O concurso tem como objetivo premiar os três Mickeys mais feios produzidos pela comunidade discente e será aplicado ao longo do mês de junho em todas as turmas, sendo concedido ao primeiro colocado o prêmio principal de ter o seu desenho exposto permanentemente na escola em local privilegiado!    A regra do concurso é bastante simples: fazer o Mickey mais feio que você puder! Na data de início do concurso ocorrerá, no Miniauditório, a fala dos organizadores do concurso Mundial Mickey Feio, Stuart Marcelo e Cecília Torres que explicarão como ele foi criado e contarão sua história, bem como falarão dos vencedores das últimas edições e tirarão dúvidas dos futuros competidores do concurso local. A banca avaliadora dos trabalhos produzidos pelos discentes conta com a professora Drª Cláudia Brandão (CA/UFPel), o professor Luís Roberto (IFSul/Charqueadas), a professora Meª Adriane Rodrigues (IFSul/Santana do Livramento), o Artista e Ilustrador Folha e o Bacharel em Cinema de Animação André Darsie.\n"
     ]
    }
   ],
   "source": [
    "num_noticia = 15\n",
    "\n",
    "noticia = df.loc[num_noticia,'noticia']\n",
    "titulo = df.loc[num_noticia,'titulo']\n",
    "\n",
    "print(pipe_resumo(noticia, max_length=100))\n",
    "print('\\n\\n', titulo, '\\n\\n', noticia)"
   ]
  },
  {
   "cell_type": "markdown",
   "id": "64e65f77-3d9a-431e-b8af-f087611c1e33",
   "metadata": {},
   "source": [
    "# Perguntas e respostas com transformers"
   ]
  },
  {
   "cell_type": "code",
   "execution_count": 43,
   "id": "8004412b-61e0-4a48-baec-14d77d12792d",
   "metadata": {
    "tags": []
   },
   "outputs": [
    {
     "name": "stdout",
     "output_type": "stream",
     "text": [
      "huggingface/tokenizers: The current process just got forked, after parallelism has already been used. Disabling parallelism to avoid deadlocks...\n",
      "To disable this warning, you can either:\n",
      "\t- Avoid using `tokenizers` before the fork if possible\n",
      "\t- Explicitly set the environment variable TOKENIZERS_PARALLELISM=(true | false)\n"
     ]
    },
    {
     "data": {
      "application/vnd.jupyter.widget-view+json": {
       "model_id": "782582ed8d5c45f990a875da53516fb3",
       "version_major": 2,
       "version_minor": 0
      },
      "text/plain": [
       "Downloading (…)lve/main/config.json:   0%|          | 0.00/571 [00:00<?, ?B/s]"
      ]
     },
     "metadata": {},
     "output_type": "display_data"
    },
    {
     "data": {
      "application/vnd.jupyter.widget-view+json": {
       "model_id": "9c12bff506414fbf86e60de8a03acf66",
       "version_major": 2,
       "version_minor": 0
      },
      "text/plain": [
       "Downloading model.safetensors:   0%|          | 0.00/496M [00:00<?, ?B/s]"
      ]
     },
     "metadata": {},
     "output_type": "display_data"
    },
    {
     "data": {
      "application/vnd.jupyter.widget-view+json": {
       "model_id": "6e3bea89d5994b819911f415bb2704ef",
       "version_major": 2,
       "version_minor": 0
      },
      "text/plain": [
       "Downloading (…)okenizer_config.json:   0%|          | 0.00/79.0 [00:00<?, ?B/s]"
      ]
     },
     "metadata": {},
     "output_type": "display_data"
    },
    {
     "data": {
      "application/vnd.jupyter.widget-view+json": {
       "model_id": "b697f8a75a894b00ab86e28231dde3c0",
       "version_major": 2,
       "version_minor": 0
      },
      "text/plain": [
       "Downloading (…)olve/main/vocab.json:   0%|          | 0.00/899k [00:00<?, ?B/s]"
      ]
     },
     "metadata": {},
     "output_type": "display_data"
    },
    {
     "data": {
      "application/vnd.jupyter.widget-view+json": {
       "model_id": "1e07173c592543e49d1a8f8c663c3586",
       "version_major": 2,
       "version_minor": 0
      },
      "text/plain": [
       "Downloading (…)olve/main/merges.txt:   0%|          | 0.00/456k [00:00<?, ?B/s]"
      ]
     },
     "metadata": {},
     "output_type": "display_data"
    },
    {
     "data": {
      "application/vnd.jupyter.widget-view+json": {
       "model_id": "70cd07c6cd73479bbf0c44b8c0bdeffd",
       "version_major": 2,
       "version_minor": 0
      },
      "text/plain": [
       "Downloading (…)cial_tokens_map.json:   0%|          | 0.00/772 [00:00<?, ?B/s]"
      ]
     },
     "metadata": {},
     "output_type": "display_data"
    }
   ],
   "source": [
    "# Use a pipeline as a high-level helper\n",
    "from transformers import pipeline\n",
    "\n",
    "pipe_qa = pipeline(\"question-answering\", model=\"deepset/roberta-base-squad2\")"
   ]
  },
  {
   "cell_type": "code",
   "execution_count": 49,
   "id": "2a90f2f9-be98-4e24-aa04-71b7b6050ca6",
   "metadata": {
    "tags": []
   },
   "outputs": [
    {
     "name": "stdout",
     "output_type": "stream",
     "text": [
      "{'score': 0.9101610779762268, 'start': 130, 'end': 161, 'answer': 'Stuart Marcelo e Cecília Torres'}\n",
      "\n",
      "\n",
      " Núcleo de Arte e Cultura lança concurso de desenho com temática centrada na feiura \n",
      "\n",
      " O concurso Mickey Feio do IFSul Gravataí é inspirado no evento de mesmo nome que acontece em escala internacional, organizado por Stuart Marcelo e Cecília Torres. Dia 14/06 iniciará, no campus Gravataí, o primeiro concurso Mickey Feio, organizado pelo Núcleo de Arte e Cultura, coordenado pelo professor Ítalo Franco Costa. O concurso tem como objetivo premiar os três Mickeys mais feios produzidos pela comunidade discente e será aplicado ao longo do mês de junho em todas as turmas, sendo concedido ao primeiro colocado o prêmio principal de ter o seu desenho exposto permanentemente na escola em local privilegiado!    A regra do concurso é bastante simples: fazer o Mickey mais feio que você puder! Na data de início do concurso ocorrerá, no Miniauditório, a fala dos organizadores do concurso Mundial Mickey Feio, Stuart Marcelo e Cecília Torres que explicarão como ele foi criado e contarão sua história, bem como falarão dos vencedores das últimas edições e tirarão dúvidas dos futuros competidores do concurso local. A banca avaliadora dos trabalhos produzidos pelos discentes conta com a professora Drª Cláudia Brandão (CA/UFPel), o professor Luís Roberto (IFSul/Charqueadas), a professora Meª Adriane Rodrigues (IFSul/Santana do Livramento), o Artista e Ilustrador Folha e o Bacharel em Cinema de Animação André Darsie.\n"
     ]
    }
   ],
   "source": [
    "num_noticia = 15\n",
    "\n",
    "noticia = df.loc[num_noticia,'noticia']\n",
    "titulo = df.loc[num_noticia,'titulo']\n",
    "\n",
    "print(pipe_qa(question='Quem organizou o concurso?', context=noticia))\n",
    "print('\\n\\n', titulo, '\\n\\n', noticia)"
   ]
  },
  {
   "cell_type": "code",
   "execution_count": null,
   "id": "de9343cf-79d3-4d56-8d9d-c80d0fcc3b47",
   "metadata": {},
   "outputs": [],
   "source": []
  }
 ],
 "metadata": {
  "kernelspec": {
   "display_name": "Python 3 (ipykernel)",
   "language": "python",
   "name": "python3"
  },
  "language_info": {
   "codemirror_mode": {
    "name": "ipython",
    "version": 3
   },
   "file_extension": ".py",
   "mimetype": "text/x-python",
   "name": "python",
   "nbconvert_exporter": "python",
   "pygments_lexer": "ipython3",
   "version": "3.11.3"
  }
 },
 "nbformat": 4,
 "nbformat_minor": 5
}
