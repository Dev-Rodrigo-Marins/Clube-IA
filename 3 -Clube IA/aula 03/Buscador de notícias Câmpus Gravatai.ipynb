{
 "cells": [
  {
   "cell_type": "code",
   "execution_count": 1,
   "id": "98f496e7",
   "metadata": {
    "tags": []
   },
   "outputs": [
    {
     "name": "stdout",
     "output_type": "stream",
     "text": [
      "Requirement already satisfied: bitsandbytes in /Users/dias/anaconda3/lib/python3.11/site-packages (0.41.1)\n",
      "Requirement already satisfied: accelerate in /Users/dias/anaconda3/lib/python3.11/site-packages (0.21.0)\n",
      "Requirement already satisfied: numpy>=1.17 in /Users/dias/anaconda3/lib/python3.11/site-packages (from accelerate) (1.24.3)\n",
      "Requirement already satisfied: packaging>=20.0 in /Users/dias/anaconda3/lib/python3.11/site-packages (from accelerate) (23.0)\n",
      "Requirement already satisfied: psutil in /Users/dias/anaconda3/lib/python3.11/site-packages (from accelerate) (5.9.0)\n",
      "Requirement already satisfied: pyyaml in /Users/dias/anaconda3/lib/python3.11/site-packages (from accelerate) (6.0)\n",
      "Requirement already satisfied: torch>=1.10.0 in /Users/dias/anaconda3/lib/python3.11/site-packages (from accelerate) (2.0.1)\n",
      "Requirement already satisfied: filelock in /Users/dias/anaconda3/lib/python3.11/site-packages (from torch>=1.10.0->accelerate) (3.9.0)\n",
      "Requirement already satisfied: typing-extensions in /Users/dias/anaconda3/lib/python3.11/site-packages (from torch>=1.10.0->accelerate) (4.7.1)\n",
      "Requirement already satisfied: sympy in /Users/dias/anaconda3/lib/python3.11/site-packages (from torch>=1.10.0->accelerate) (1.11.1)\n",
      "Requirement already satisfied: networkx in /Users/dias/anaconda3/lib/python3.11/site-packages (from torch>=1.10.0->accelerate) (2.8.4)\n",
      "Requirement already satisfied: jinja2 in /Users/dias/anaconda3/lib/python3.11/site-packages (from torch>=1.10.0->accelerate) (3.1.2)\n",
      "Requirement already satisfied: MarkupSafe>=2.0 in /Users/dias/anaconda3/lib/python3.11/site-packages (from jinja2->torch>=1.10.0->accelerate) (2.1.1)\n",
      "Requirement already satisfied: mpmath>=0.19 in /Users/dias/anaconda3/lib/python3.11/site-packages (from sympy->torch>=1.10.0->accelerate) (1.2.1)\n",
      "Requirement already satisfied: langchain in /Users/dias/anaconda3/lib/python3.11/site-packages (0.0.292)\n",
      "Requirement already satisfied: PyYAML>=5.3 in /Users/dias/anaconda3/lib/python3.11/site-packages (from langchain) (6.0)\n",
      "Requirement already satisfied: SQLAlchemy<3,>=1.4 in /Users/dias/anaconda3/lib/python3.11/site-packages (from langchain) (2.0.20)\n",
      "Requirement already satisfied: aiohttp<4.0.0,>=3.8.3 in /Users/dias/anaconda3/lib/python3.11/site-packages (from langchain) (3.8.3)\n",
      "Requirement already satisfied: dataclasses-json<0.6.0,>=0.5.7 in /Users/dias/anaconda3/lib/python3.11/site-packages (from langchain) (0.5.14)\n",
      "Requirement already satisfied: langsmith<0.1.0,>=0.0.21 in /Users/dias/anaconda3/lib/python3.11/site-packages (from langchain) (0.0.37)\n",
      "Requirement already satisfied: numexpr<3.0.0,>=2.8.4 in /Users/dias/anaconda3/lib/python3.11/site-packages (from langchain) (2.8.4)\n",
      "Requirement already satisfied: numpy<2,>=1 in /Users/dias/anaconda3/lib/python3.11/site-packages (from langchain) (1.24.3)\n",
      "Requirement already satisfied: pydantic<3,>=1 in /Users/dias/anaconda3/lib/python3.11/site-packages (from langchain) (1.10.12)\n",
      "Requirement already satisfied: requests<3,>=2 in /Users/dias/anaconda3/lib/python3.11/site-packages (from langchain) (2.29.0)\n",
      "Requirement already satisfied: tenacity<9.0.0,>=8.1.0 in /Users/dias/anaconda3/lib/python3.11/site-packages (from langchain) (8.2.2)\n",
      "Requirement already satisfied: attrs>=17.3.0 in /Users/dias/anaconda3/lib/python3.11/site-packages (from aiohttp<4.0.0,>=3.8.3->langchain) (22.1.0)\n",
      "Requirement already satisfied: charset-normalizer<3.0,>=2.0 in /Users/dias/anaconda3/lib/python3.11/site-packages (from aiohttp<4.0.0,>=3.8.3->langchain) (2.0.4)\n",
      "Requirement already satisfied: multidict<7.0,>=4.5 in /Users/dias/anaconda3/lib/python3.11/site-packages (from aiohttp<4.0.0,>=3.8.3->langchain) (6.0.2)\n",
      "Requirement already satisfied: async-timeout<5.0,>=4.0.0a3 in /Users/dias/anaconda3/lib/python3.11/site-packages (from aiohttp<4.0.0,>=3.8.3->langchain) (4.0.2)\n",
      "Requirement already satisfied: yarl<2.0,>=1.0 in /Users/dias/anaconda3/lib/python3.11/site-packages (from aiohttp<4.0.0,>=3.8.3->langchain) (1.8.1)\n",
      "Requirement already satisfied: frozenlist>=1.1.1 in /Users/dias/anaconda3/lib/python3.11/site-packages (from aiohttp<4.0.0,>=3.8.3->langchain) (1.3.3)\n",
      "Requirement already satisfied: aiosignal>=1.1.2 in /Users/dias/anaconda3/lib/python3.11/site-packages (from aiohttp<4.0.0,>=3.8.3->langchain) (1.2.0)\n",
      "Requirement already satisfied: marshmallow<4.0.0,>=3.18.0 in /Users/dias/anaconda3/lib/python3.11/site-packages (from dataclasses-json<0.6.0,>=0.5.7->langchain) (3.20.1)\n",
      "Requirement already satisfied: typing-inspect<1,>=0.4.0 in /Users/dias/anaconda3/lib/python3.11/site-packages (from dataclasses-json<0.6.0,>=0.5.7->langchain) (0.9.0)\n",
      "Requirement already satisfied: typing-extensions>=4.2.0 in /Users/dias/anaconda3/lib/python3.11/site-packages (from pydantic<3,>=1->langchain) (4.7.1)\n",
      "Requirement already satisfied: idna<4,>=2.5 in /Users/dias/anaconda3/lib/python3.11/site-packages (from requests<3,>=2->langchain) (3.4)\n",
      "Requirement already satisfied: urllib3<1.27,>=1.21.1 in /Users/dias/anaconda3/lib/python3.11/site-packages (from requests<3,>=2->langchain) (1.26.16)\n",
      "Requirement already satisfied: certifi>=2017.4.17 in /Users/dias/anaconda3/lib/python3.11/site-packages (from requests<3,>=2->langchain) (2023.5.7)\n",
      "Requirement already satisfied: packaging>=17.0 in /Users/dias/anaconda3/lib/python3.11/site-packages (from marshmallow<4.0.0,>=3.18.0->dataclasses-json<0.6.0,>=0.5.7->langchain) (23.0)\n",
      "Requirement already satisfied: mypy-extensions>=0.3.0 in /Users/dias/anaconda3/lib/python3.11/site-packages (from typing-inspect<1,>=0.4.0->dataclasses-json<0.6.0,>=0.5.7->langchain) (0.4.3)\n",
      "Requirement already satisfied: huggingface in /Users/dias/anaconda3/lib/python3.11/site-packages (0.0.1)\n",
      "Requirement already satisfied: transformers in /Users/dias/anaconda3/lib/python3.11/site-packages (4.31.0)\n",
      "Requirement already satisfied: filelock in /Users/dias/anaconda3/lib/python3.11/site-packages (from transformers) (3.9.0)\n",
      "Requirement already satisfied: huggingface-hub<1.0,>=0.14.1 in /Users/dias/anaconda3/lib/python3.11/site-packages (from transformers) (0.16.4)\n",
      "Requirement already satisfied: numpy>=1.17 in /Users/dias/anaconda3/lib/python3.11/site-packages (from transformers) (1.24.3)\n",
      "Requirement already satisfied: packaging>=20.0 in /Users/dias/anaconda3/lib/python3.11/site-packages (from transformers) (23.0)\n",
      "Requirement already satisfied: pyyaml>=5.1 in /Users/dias/anaconda3/lib/python3.11/site-packages (from transformers) (6.0)\n",
      "Requirement already satisfied: regex!=2019.12.17 in /Users/dias/anaconda3/lib/python3.11/site-packages (from transformers) (2022.7.9)\n",
      "Requirement already satisfied: requests in /Users/dias/anaconda3/lib/python3.11/site-packages (from transformers) (2.29.0)\n",
      "Requirement already satisfied: tokenizers!=0.11.3,<0.14,>=0.11.1 in /Users/dias/anaconda3/lib/python3.11/site-packages (from transformers) (0.13.3)\n",
      "Requirement already satisfied: safetensors>=0.3.1 in /Users/dias/anaconda3/lib/python3.11/site-packages (from transformers) (0.3.1)\n",
      "Requirement already satisfied: tqdm>=4.27 in /Users/dias/anaconda3/lib/python3.11/site-packages (from transformers) (4.65.0)\n",
      "Requirement already satisfied: fsspec in /Users/dias/anaconda3/lib/python3.11/site-packages (from huggingface-hub<1.0,>=0.14.1->transformers) (2023.4.0)\n",
      "Requirement already satisfied: typing-extensions>=3.7.4.3 in /Users/dias/anaconda3/lib/python3.11/site-packages (from huggingface-hub<1.0,>=0.14.1->transformers) (4.7.1)\n",
      "Requirement already satisfied: charset-normalizer<4,>=2 in /Users/dias/anaconda3/lib/python3.11/site-packages (from requests->transformers) (2.0.4)\n",
      "Requirement already satisfied: idna<4,>=2.5 in /Users/dias/anaconda3/lib/python3.11/site-packages (from requests->transformers) (3.4)\n",
      "Requirement already satisfied: urllib3<1.27,>=1.21.1 in /Users/dias/anaconda3/lib/python3.11/site-packages (from requests->transformers) (1.26.16)\n",
      "Requirement already satisfied: certifi>=2017.4.17 in /Users/dias/anaconda3/lib/python3.11/site-packages (from requests->transformers) (2023.5.7)\n",
      "Requirement already satisfied: unstructured in /Users/dias/anaconda3/lib/python3.11/site-packages (0.10.15)\n",
      "Requirement already satisfied: chardet in /Users/dias/anaconda3/lib/python3.11/site-packages (from unstructured) (4.0.0)\n",
      "Requirement already satisfied: filetype in /Users/dias/anaconda3/lib/python3.11/site-packages (from unstructured) (1.2.0)\n",
      "Requirement already satisfied: python-magic in /Users/dias/anaconda3/lib/python3.11/site-packages (from unstructured) (0.4.27)\n",
      "Requirement already satisfied: lxml in /Users/dias/anaconda3/lib/python3.11/site-packages (from unstructured) (4.9.2)\n",
      "Requirement already satisfied: nltk in /Users/dias/anaconda3/lib/python3.11/site-packages (from unstructured) (3.7)\n",
      "Requirement already satisfied: tabulate in /Users/dias/anaconda3/lib/python3.11/site-packages (from unstructured) (0.8.10)\n",
      "Requirement already satisfied: requests in /Users/dias/anaconda3/lib/python3.11/site-packages (from unstructured) (2.29.0)\n",
      "Requirement already satisfied: beautifulsoup4 in /Users/dias/anaconda3/lib/python3.11/site-packages (from unstructured) (4.12.2)\n",
      "Requirement already satisfied: emoji in /Users/dias/anaconda3/lib/python3.11/site-packages (from unstructured) (2.8.0)\n",
      "Requirement already satisfied: dataclasses-json in /Users/dias/anaconda3/lib/python3.11/site-packages (from unstructured) (0.5.14)\n",
      "Requirement already satisfied: soupsieve>1.2 in /Users/dias/anaconda3/lib/python3.11/site-packages (from beautifulsoup4->unstructured) (2.4)\n",
      "Requirement already satisfied: marshmallow<4.0.0,>=3.18.0 in /Users/dias/anaconda3/lib/python3.11/site-packages (from dataclasses-json->unstructured) (3.20.1)\n",
      "Requirement already satisfied: typing-inspect<1,>=0.4.0 in /Users/dias/anaconda3/lib/python3.11/site-packages (from dataclasses-json->unstructured) (0.9.0)\n",
      "Requirement already satisfied: click in /Users/dias/anaconda3/lib/python3.11/site-packages (from nltk->unstructured) (8.1.7)\n",
      "Requirement already satisfied: joblib in /Users/dias/anaconda3/lib/python3.11/site-packages (from nltk->unstructured) (1.2.0)\n",
      "Requirement already satisfied: regex>=2021.8.3 in /Users/dias/anaconda3/lib/python3.11/site-packages (from nltk->unstructured) (2022.7.9)\n",
      "Requirement already satisfied: tqdm in /Users/dias/anaconda3/lib/python3.11/site-packages (from nltk->unstructured) (4.65.0)\n",
      "Requirement already satisfied: charset-normalizer<4,>=2 in /Users/dias/anaconda3/lib/python3.11/site-packages (from requests->unstructured) (2.0.4)\n",
      "Requirement already satisfied: idna<4,>=2.5 in /Users/dias/anaconda3/lib/python3.11/site-packages (from requests->unstructured) (3.4)\n",
      "Requirement already satisfied: urllib3<1.27,>=1.21.1 in /Users/dias/anaconda3/lib/python3.11/site-packages (from requests->unstructured) (1.26.16)\n",
      "Requirement already satisfied: certifi>=2017.4.17 in /Users/dias/anaconda3/lib/python3.11/site-packages (from requests->unstructured) (2023.5.7)\n",
      "Requirement already satisfied: packaging>=17.0 in /Users/dias/anaconda3/lib/python3.11/site-packages (from marshmallow<4.0.0,>=3.18.0->dataclasses-json->unstructured) (23.0)\n",
      "Requirement already satisfied: mypy-extensions>=0.3.0 in /Users/dias/anaconda3/lib/python3.11/site-packages (from typing-inspect<1,>=0.4.0->dataclasses-json->unstructured) (0.4.3)\n",
      "Requirement already satisfied: typing-extensions>=3.7.4 in /Users/dias/anaconda3/lib/python3.11/site-packages (from typing-inspect<1,>=0.4.0->dataclasses-json->unstructured) (4.7.1)\n",
      "Requirement already satisfied: jq in /Users/dias/anaconda3/lib/python3.11/site-packages (1.6.0)\n",
      "Requirement already satisfied: sentence-transformers in /Users/dias/anaconda3/lib/python3.11/site-packages (2.2.2)\n",
      "Requirement already satisfied: transformers<5.0.0,>=4.6.0 in /Users/dias/anaconda3/lib/python3.11/site-packages (from sentence-transformers) (4.31.0)\n",
      "Requirement already satisfied: tqdm in /Users/dias/anaconda3/lib/python3.11/site-packages (from sentence-transformers) (4.65.0)\n",
      "Requirement already satisfied: torch>=1.6.0 in /Users/dias/anaconda3/lib/python3.11/site-packages (from sentence-transformers) (2.0.1)\n",
      "Requirement already satisfied: torchvision in /Users/dias/anaconda3/lib/python3.11/site-packages (from sentence-transformers) (0.15.2)\n",
      "Requirement already satisfied: numpy in /Users/dias/anaconda3/lib/python3.11/site-packages (from sentence-transformers) (1.24.3)\n",
      "Requirement already satisfied: scikit-learn in /Users/dias/anaconda3/lib/python3.11/site-packages (from sentence-transformers) (1.2.2)\n",
      "Requirement already satisfied: scipy in /Users/dias/anaconda3/lib/python3.11/site-packages (from sentence-transformers) (1.10.1)\n",
      "Requirement already satisfied: nltk in /Users/dias/anaconda3/lib/python3.11/site-packages (from sentence-transformers) (3.7)\n",
      "Requirement already satisfied: sentencepiece in /Users/dias/anaconda3/lib/python3.11/site-packages (from sentence-transformers) (0.1.99)\n",
      "Requirement already satisfied: huggingface-hub>=0.4.0 in /Users/dias/anaconda3/lib/python3.11/site-packages (from sentence-transformers) (0.16.4)\n",
      "Requirement already satisfied: filelock in /Users/dias/anaconda3/lib/python3.11/site-packages (from huggingface-hub>=0.4.0->sentence-transformers) (3.9.0)\n",
      "Requirement already satisfied: fsspec in /Users/dias/anaconda3/lib/python3.11/site-packages (from huggingface-hub>=0.4.0->sentence-transformers) (2023.4.0)\n",
      "Requirement already satisfied: requests in /Users/dias/anaconda3/lib/python3.11/site-packages (from huggingface-hub>=0.4.0->sentence-transformers) (2.29.0)\n",
      "Requirement already satisfied: pyyaml>=5.1 in /Users/dias/anaconda3/lib/python3.11/site-packages (from huggingface-hub>=0.4.0->sentence-transformers) (6.0)\n",
      "Requirement already satisfied: typing-extensions>=3.7.4.3 in /Users/dias/anaconda3/lib/python3.11/site-packages (from huggingface-hub>=0.4.0->sentence-transformers) (4.7.1)\n",
      "Requirement already satisfied: packaging>=20.9 in /Users/dias/anaconda3/lib/python3.11/site-packages (from huggingface-hub>=0.4.0->sentence-transformers) (23.0)\n",
      "Requirement already satisfied: sympy in /Users/dias/anaconda3/lib/python3.11/site-packages (from torch>=1.6.0->sentence-transformers) (1.11.1)\n",
      "Requirement already satisfied: networkx in /Users/dias/anaconda3/lib/python3.11/site-packages (from torch>=1.6.0->sentence-transformers) (2.8.4)\n",
      "Requirement already satisfied: jinja2 in /Users/dias/anaconda3/lib/python3.11/site-packages (from torch>=1.6.0->sentence-transformers) (3.1.2)\n",
      "Requirement already satisfied: regex!=2019.12.17 in /Users/dias/anaconda3/lib/python3.11/site-packages (from transformers<5.0.0,>=4.6.0->sentence-transformers) (2022.7.9)\n",
      "Requirement already satisfied: tokenizers!=0.11.3,<0.14,>=0.11.1 in /Users/dias/anaconda3/lib/python3.11/site-packages (from transformers<5.0.0,>=4.6.0->sentence-transformers) (0.13.3)\n",
      "Requirement already satisfied: safetensors>=0.3.1 in /Users/dias/anaconda3/lib/python3.11/site-packages (from transformers<5.0.0,>=4.6.0->sentence-transformers) (0.3.1)\n",
      "Requirement already satisfied: click in /Users/dias/anaconda3/lib/python3.11/site-packages (from nltk->sentence-transformers) (8.1.7)\n",
      "Requirement already satisfied: joblib in /Users/dias/anaconda3/lib/python3.11/site-packages (from nltk->sentence-transformers) (1.2.0)\n",
      "Requirement already satisfied: threadpoolctl>=2.0.0 in /Users/dias/anaconda3/lib/python3.11/site-packages (from scikit-learn->sentence-transformers) (2.2.0)\n",
      "Requirement already satisfied: pillow!=8.3.*,>=5.3.0 in /Users/dias/anaconda3/lib/python3.11/site-packages (from torchvision->sentence-transformers) (9.4.0)\n",
      "Requirement already satisfied: MarkupSafe>=2.0 in /Users/dias/anaconda3/lib/python3.11/site-packages (from jinja2->torch>=1.6.0->sentence-transformers) (2.1.1)\n",
      "Requirement already satisfied: charset-normalizer<4,>=2 in /Users/dias/anaconda3/lib/python3.11/site-packages (from requests->huggingface-hub>=0.4.0->sentence-transformers) (2.0.4)\n",
      "Requirement already satisfied: idna<4,>=2.5 in /Users/dias/anaconda3/lib/python3.11/site-packages (from requests->huggingface-hub>=0.4.0->sentence-transformers) (3.4)\n",
      "Requirement already satisfied: urllib3<1.27,>=1.21.1 in /Users/dias/anaconda3/lib/python3.11/site-packages (from requests->huggingface-hub>=0.4.0->sentence-transformers) (1.26.16)\n",
      "Requirement already satisfied: certifi>=2017.4.17 in /Users/dias/anaconda3/lib/python3.11/site-packages (from requests->huggingface-hub>=0.4.0->sentence-transformers) (2023.5.7)\n",
      "Requirement already satisfied: mpmath>=0.19 in /Users/dias/anaconda3/lib/python3.11/site-packages (from sympy->torch>=1.6.0->sentence-transformers) (1.2.1)\n",
      "Requirement already satisfied: torch in /Users/dias/anaconda3/lib/python3.11/site-packages (2.0.1)\n",
      "Requirement already satisfied: filelock in /Users/dias/anaconda3/lib/python3.11/site-packages (from torch) (3.9.0)\n",
      "Requirement already satisfied: typing-extensions in /Users/dias/anaconda3/lib/python3.11/site-packages (from torch) (4.7.1)\n",
      "Requirement already satisfied: sympy in /Users/dias/anaconda3/lib/python3.11/site-packages (from torch) (1.11.1)\n",
      "Requirement already satisfied: networkx in /Users/dias/anaconda3/lib/python3.11/site-packages (from torch) (2.8.4)\n",
      "Requirement already satisfied: jinja2 in /Users/dias/anaconda3/lib/python3.11/site-packages (from torch) (3.1.2)\n",
      "Requirement already satisfied: MarkupSafe>=2.0 in /Users/dias/anaconda3/lib/python3.11/site-packages (from jinja2->torch) (2.1.1)\n",
      "Requirement already satisfied: mpmath>=0.19 in /Users/dias/anaconda3/lib/python3.11/site-packages (from sympy->torch) (1.2.1)\n",
      "Requirement already satisfied: faiss-cpu in /Users/dias/anaconda3/lib/python3.11/site-packages (1.7.4)\n",
      "Requirement already satisfied: chromadb in /Users/dias/anaconda3/lib/python3.11/site-packages (0.4.10)\n",
      "Requirement already satisfied: requests>=2.28 in /Users/dias/anaconda3/lib/python3.11/site-packages (from chromadb) (2.29.0)\n",
      "Requirement already satisfied: pydantic<2.0,>=1.9 in /Users/dias/anaconda3/lib/python3.11/site-packages (from chromadb) (1.10.12)\n",
      "Requirement already satisfied: chroma-hnswlib==0.7.3 in /Users/dias/anaconda3/lib/python3.11/site-packages (from chromadb) (0.7.3)\n",
      "Requirement already satisfied: fastapi<0.100.0,>=0.95.2 in /Users/dias/anaconda3/lib/python3.11/site-packages (from chromadb) (0.99.1)\n",
      "Requirement already satisfied: uvicorn[standard]>=0.18.3 in /Users/dias/anaconda3/lib/python3.11/site-packages (from chromadb) (0.23.2)\n",
      "Requirement already satisfied: posthog>=2.4.0 in /Users/dias/anaconda3/lib/python3.11/site-packages (from chromadb) (3.0.2)\n",
      "Requirement already satisfied: typing-extensions>=4.5.0 in /Users/dias/anaconda3/lib/python3.11/site-packages (from chromadb) (4.7.1)\n",
      "Requirement already satisfied: pulsar-client>=3.1.0 in /Users/dias/anaconda3/lib/python3.11/site-packages (from chromadb) (3.3.0)\n",
      "Requirement already satisfied: onnxruntime>=1.14.1 in /Users/dias/anaconda3/lib/python3.11/site-packages (from chromadb) (1.15.1)\n",
      "Requirement already satisfied: tokenizers>=0.13.2 in /Users/dias/anaconda3/lib/python3.11/site-packages (from chromadb) (0.13.3)\n",
      "Requirement already satisfied: pypika>=0.48.9 in /Users/dias/anaconda3/lib/python3.11/site-packages (from chromadb) (0.48.9)\n",
      "Requirement already satisfied: tqdm>=4.65.0 in /Users/dias/anaconda3/lib/python3.11/site-packages (from chromadb) (4.65.0)\n",
      "Requirement already satisfied: overrides>=7.3.1 in /Users/dias/anaconda3/lib/python3.11/site-packages (from chromadb) (7.4.0)\n",
      "Requirement already satisfied: importlib-resources in /Users/dias/anaconda3/lib/python3.11/site-packages (from chromadb) (6.0.1)\n",
      "Requirement already satisfied: bcrypt>=4.0.1 in /Users/dias/anaconda3/lib/python3.11/site-packages (from chromadb) (4.0.1)\n",
      "Requirement already satisfied: numpy>=1.22.5 in /Users/dias/anaconda3/lib/python3.11/site-packages (from chromadb) (1.24.3)\n",
      "Requirement already satisfied: starlette<0.28.0,>=0.27.0 in /Users/dias/anaconda3/lib/python3.11/site-packages (from fastapi<0.100.0,>=0.95.2->chromadb) (0.27.0)\n",
      "Requirement already satisfied: coloredlogs in /Users/dias/anaconda3/lib/python3.11/site-packages (from onnxruntime>=1.14.1->chromadb) (15.0.1)\n",
      "Requirement already satisfied: flatbuffers in /Users/dias/anaconda3/lib/python3.11/site-packages (from onnxruntime>=1.14.1->chromadb) (23.5.26)\n",
      "Requirement already satisfied: packaging in /Users/dias/anaconda3/lib/python3.11/site-packages (from onnxruntime>=1.14.1->chromadb) (23.0)\n",
      "Requirement already satisfied: protobuf in /Users/dias/anaconda3/lib/python3.11/site-packages (from onnxruntime>=1.14.1->chromadb) (4.24.3)\n",
      "Requirement already satisfied: sympy in /Users/dias/anaconda3/lib/python3.11/site-packages (from onnxruntime>=1.14.1->chromadb) (1.11.1)\n",
      "Requirement already satisfied: six>=1.5 in /Users/dias/anaconda3/lib/python3.11/site-packages (from posthog>=2.4.0->chromadb) (1.16.0)\n",
      "Requirement already satisfied: monotonic>=1.5 in /Users/dias/anaconda3/lib/python3.11/site-packages (from posthog>=2.4.0->chromadb) (1.6)\n",
      "Requirement already satisfied: backoff>=1.10.0 in /Users/dias/anaconda3/lib/python3.11/site-packages (from posthog>=2.4.0->chromadb) (2.2.1)\n",
      "Requirement already satisfied: python-dateutil>2.1 in /Users/dias/anaconda3/lib/python3.11/site-packages (from posthog>=2.4.0->chromadb) (2.8.2)\n",
      "Requirement already satisfied: certifi in /Users/dias/anaconda3/lib/python3.11/site-packages (from pulsar-client>=3.1.0->chromadb) (2023.5.7)\n",
      "Requirement already satisfied: charset-normalizer<4,>=2 in /Users/dias/anaconda3/lib/python3.11/site-packages (from requests>=2.28->chromadb) (2.0.4)\n",
      "Requirement already satisfied: idna<4,>=2.5 in /Users/dias/anaconda3/lib/python3.11/site-packages (from requests>=2.28->chromadb) (3.4)\n",
      "Requirement already satisfied: urllib3<1.27,>=1.21.1 in /Users/dias/anaconda3/lib/python3.11/site-packages (from requests>=2.28->chromadb) (1.26.16)\n",
      "Requirement already satisfied: click>=7.0 in /Users/dias/anaconda3/lib/python3.11/site-packages (from uvicorn[standard]>=0.18.3->chromadb) (8.1.7)\n",
      "Requirement already satisfied: h11>=0.8 in /Users/dias/anaconda3/lib/python3.11/site-packages (from uvicorn[standard]>=0.18.3->chromadb) (0.14.0)\n",
      "Requirement already satisfied: httptools>=0.5.0 in /Users/dias/anaconda3/lib/python3.11/site-packages (from uvicorn[standard]>=0.18.3->chromadb) (0.6.0)\n",
      "Requirement already satisfied: python-dotenv>=0.13 in /Users/dias/anaconda3/lib/python3.11/site-packages (from uvicorn[standard]>=0.18.3->chromadb) (1.0.0)\n",
      "Requirement already satisfied: pyyaml>=5.1 in /Users/dias/anaconda3/lib/python3.11/site-packages (from uvicorn[standard]>=0.18.3->chromadb) (6.0)\n",
      "Requirement already satisfied: uvloop!=0.15.0,!=0.15.1,>=0.14.0 in /Users/dias/anaconda3/lib/python3.11/site-packages (from uvicorn[standard]>=0.18.3->chromadb) (0.17.0)\n",
      "Requirement already satisfied: watchfiles>=0.13 in /Users/dias/anaconda3/lib/python3.11/site-packages (from uvicorn[standard]>=0.18.3->chromadb) (0.20.0)\n",
      "Requirement already satisfied: websockets>=10.4 in /Users/dias/anaconda3/lib/python3.11/site-packages (from uvicorn[standard]>=0.18.3->chromadb) (11.0.3)\n",
      "Requirement already satisfied: anyio<5,>=3.4.0 in /Users/dias/anaconda3/lib/python3.11/site-packages (from starlette<0.28.0,>=0.27.0->fastapi<0.100.0,>=0.95.2->chromadb) (3.5.0)\n",
      "Requirement already satisfied: humanfriendly>=9.1 in /Users/dias/anaconda3/lib/python3.11/site-packages (from coloredlogs->onnxruntime>=1.14.1->chromadb) (10.0)\n",
      "Requirement already satisfied: mpmath>=0.19 in /Users/dias/anaconda3/lib/python3.11/site-packages (from sympy->onnxruntime>=1.14.1->chromadb) (1.2.1)\n",
      "Requirement already satisfied: sniffio>=1.1 in /Users/dias/anaconda3/lib/python3.11/site-packages (from anyio<5,>=3.4.0->starlette<0.28.0,>=0.27.0->fastapi<0.100.0,>=0.95.2->chromadb) (1.2.0)\n"
     ]
    }
   ],
   "source": [
    "!pip install bitsandbytes\n",
    "!pip install accelerate\n",
    "!pip install huggingface\n",
    "!pip install transformers\n",
    "!pip install unstructured\n",
    "!pip install jq\n",
    "!pip install sentence-transformers\n",
    "!pip install torch"
   ]
  },
  {
   "cell_type": "code",
   "execution_count": 1,
   "id": "2efad65e",
   "metadata": {
    "tags": []
   },
   "outputs": [
    {
     "name": "stderr",
     "output_type": "stream",
     "text": [
      "/Users/dias/anaconda3/lib/python3.11/site-packages/bitsandbytes/cextension.py:34: UserWarning: The installed version of bitsandbytes was compiled without GPU support. 8-bit optimizers, 8-bit multiplication, and GPU quantization are unavailable.\n",
      "  warn(\"The installed version of bitsandbytes was compiled without GPU support. \"\n"
     ]
    },
    {
     "name": "stdout",
     "output_type": "stream",
     "text": [
      "'NoneType' object has no attribute 'cadam32bit_grad_fp32'\n"
     ]
    }
   ],
   "source": [
    "from transformers import pipeline\n",
    "from transformers import AutoTokenizer, AutoModelForCausalLM, AutoModelForQuestionAnswering\n",
    "from sentence_transformers import SentenceTransformer"
   ]
  },
  {
   "cell_type": "code",
   "execution_count": 23,
   "id": "7e1bd20b-882f-4502-89f1-cabafdba32fe",
   "metadata": {
    "tags": []
   },
   "outputs": [],
   "source": [
    "import pandas as pd\n",
    "df = pd.read_json('./noticias.json')\n",
    "\n",
    "text_chunks = df['noticia'].values"
   ]
  },
  {
   "cell_type": "code",
   "execution_count": 24,
   "id": "aa1059f0",
   "metadata": {
    "scrolled": true,
    "tags": []
   },
   "outputs": [],
   "source": [
    "tokenizer = AutoTokenizer.from_pretrained(\"pierreguillou/bert-base-cased-squad-v1.1-portuguese\")\n",
    "model = AutoModelForQuestionAnswering.from_pretrained(\"pierreguillou/bert-base-cased-squad-v1.1-portuguese\")"
   ]
  },
  {
   "cell_type": "code",
   "execution_count": 27,
   "id": "bafbe0b0",
   "metadata": {
    "tags": []
   },
   "outputs": [],
   "source": [
    "pipe = pipeline(\"question-answering\",\n",
    "                model=model,\n",
    "                tokenizer= tokenizer,\n",
    "                max_new_tokens = 512,\n",
    "                do_sample=True,\n",
    "                top_k=4,\n",
    "                num_return_sequences=1,\n",
    "                eos_token_id=tokenizer.eos_token_id\n",
    "                )"
   ]
  },
  {
   "cell_type": "code",
   "execution_count": 28,
   "id": "eab796ee-0945-4bb0-ad92-bf5d6b0dc797",
   "metadata": {
    "tags": []
   },
   "outputs": [
    {
     "name": "stdout",
     "output_type": "stream",
     "text": [
      "[{'score': 0.9916385412216187, 'start': 347264, 'end': 347277, 'answer': 'Diretor-geral'}, {'score': 0.9868163466453552, 'start': 651680, 'end': 651703, 'answer': 'Diretor-geral do Campus'}, {'score': 0.983322024345398, 'start': 347264, 'end': 347277, 'answer': 'Diretor-geral'}, {'score': 0.9578816294670105, 'start': 535260, 'end': 535292, 'answer': 'Diretor-geral do Câmpus Gravataí'}]\n"
     ]
    }
   ],
   "source": [
    "print(pipe(question=\"Quem é Marco Vaz?\", context=str(text_chunks)))"
   ]
  },
  {
   "cell_type": "code",
   "execution_count": 15,
   "id": "74664841-827e-4aa2-8326-39b5fa7342c9",
   "metadata": {
    "tags": []
   },
   "outputs": [
    {
     "name": "stdout",
     "output_type": "stream",
     "text": [
      "[{'score': 0.8862816095352173, 'start': 743155, 'end': 743164, 'answer': 'professor'}, {'score': 0.7398203611373901, 'start': 277614, 'end': 277641, 'answer': 'Dienifer Santos Kwiatkowski'}, {'score': 0.7021304965019226, 'start': 891394, 'end': 891416, 'answer': 'professor de filosofia'}, {'score': 0.6848499774932861, 'start': 105084, 'end': 105102, 'answer': 'paraninfo do curso'}]\n"
     ]
    }
   ],
   "source": [
    "print(pipe(question=\"Quem é Fabio de Oliveira Dias?\", context=str(text_chunks)))"
   ]
  },
  {
   "cell_type": "code",
   "execution_count": 17,
   "id": "4255ca58-0657-49c0-aad7-20d69036194a",
   "metadata": {
    "tags": []
   },
   "outputs": [
    {
     "name": "stdout",
     "output_type": "stream",
     "text": [
      "[{'score': 0.9481496810913086, 'start': 327444, 'end': 327497, 'answer': 'maratonas de desenvolvimento de soluções tecnológicas'}, {'score': 0.8223941326141357, 'start': 484479, 'end': 484517, 'answer': 'atividades pedagógicas não presenciais'}, {'score': 0.8162258267402649, 'start': 277943, 'end': 277999, 'answer': 'um site de estudos e comunicação entre aluno e professor'}, {'score': 0.7126726508140564, 'start': 455098, 'end': 455135, 'answer': 'o período quando acontecem os debates'}]\n"
     ]
    }
   ],
   "source": [
    "print(pipe(question=\"O que é hackathon?\", context=str(text_chunks)))"
   ]
  },
  {
   "cell_type": "code",
   "execution_count": 20,
   "id": "cb1177ca-631c-497f-8609-5bd9e5bfde53",
   "metadata": {
    "tags": []
   },
   "outputs": [
    {
     "name": "stdout",
     "output_type": "stream",
     "text": [
      "[{'score': 0.912519097328186, 'start': 665868, 'end': 665896, 'answer': 'Segunda, 17 de Junho de 2019'}, {'score': 0.9025993943214417, 'start': 824646, 'end': 824670, 'answer': 'Sexta, 05 de Mai de 2017'}, {'score': 0.9000537395477295, 'start': 654610, 'end': 654637, 'answer': 'Quarta, 12 de Junho de 2019'}, {'score': 0.8988988399505615, 'start': 701797, 'end': 701807, 'answer': 'julho/2019'}]\n"
     ]
    }
   ],
   "source": [
    "print(pipe(question=\"Quando ocorre o hackathon de 2023?\", context=str(text_chunks)))"
   ]
  },
  {
   "cell_type": "code",
   "execution_count": 19,
   "id": "fac9bbaa-2392-4239-8feb-57e5cdab1cc4",
   "metadata": {
    "tags": []
   },
   "outputs": [
    {
     "name": "stdout",
     "output_type": "stream",
     "text": [
      "[{'score': 0.9828649759292603, 'start': 57462, 'end': 57499, 'answer': 'Análise e Desenvolvimento de Sistemas'}, {'score': 0.980463445186615, 'start': 834893, 'end': 834924, 'answer': 'tSábado letivo  e  festa junina'}, {'score': 0.9794837236404419, 'start': 211702, 'end': 211713, 'answer': 'presenciais'}, {'score': 0.9771798849105835, 'start': 173603, 'end': 173654, 'answer': 'Tecnologia em Análise e Desenvolvimento de Sistemas'}]\n"
     ]
    }
   ],
   "source": [
    "print(pipe(question=\"Quais são os cursos Câmpus Gravataí?\", context=str(text_chunks)))"
   ]
  },
  {
   "cell_type": "code",
   "execution_count": 22,
   "id": "cfd00d63-4f41-499b-90ea-7628ae22250e",
   "metadata": {
    "tags": []
   },
   "outputs": [
    {
     "name": "stdout",
     "output_type": "stream",
     "text": [
      "[{'score': 0.9692997336387634, 'start': 535231, 'end': 535257, 'answer': 'Marco Antonio da Silva Vaz'}, {'score': 0.9528744220733643, 'start': 905976, 'end': 905993, 'answer': 'Professor Marcelo'}, {'score': 0.9421857595443726, 'start': 882563, 'end': 882581, 'answer': 'André Luis Pereira'}, {'score': 0.894517719745636, 'start': 840103, 'end': 840117, 'answer': 'Michele Lermen'}]\n"
     ]
    }
   ],
   "source": [
    "print(pipe(question=\"Quem é o professor de educação física do câmpus gravataí?\", context=str(text_chunks)))"
   ]
  },
  {
   "cell_type": "code",
   "execution_count": null,
   "id": "9204cf8c-72ff-481f-8f48-f97710197e76",
   "metadata": {},
   "outputs": [],
   "source": []
  }
 ],
 "metadata": {
  "kernelspec": {
   "display_name": "Python 3 (ipykernel)",
   "language": "python",
   "name": "python3"
  },
  "language_info": {
   "codemirror_mode": {
    "name": "ipython",
    "version": 3
   },
   "file_extension": ".py",
   "mimetype": "text/x-python",
   "name": "python",
   "nbconvert_exporter": "python",
   "pygments_lexer": "ipython3",
   "version": "3.11.3"
  }
 },
 "nbformat": 4,
 "nbformat_minor": 5
}
