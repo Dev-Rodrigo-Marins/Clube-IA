{
 "cells": [
  {
   "cell_type": "code",
   "execution_count": 1,
   "metadata": {
    "tags": []
   },
   "outputs": [],
   "source": [
    "from pyfirmata import Arduino,util\n",
    "import pandas as pd\n",
    "import time"
   ]
  },
  {
   "cell_type": "code",
   "execution_count": 2,
   "metadata": {},
   "outputs": [],
   "source": [
    "port = '/dev/cu.usbmodem14701'  # ou a porta correta do seu Arduino (no Windows 'COM1', por exemplo)\n",
    "\n",
    "placa = Arduino(port) #assim \"placa\" representa o Arduino"
   ]
  },
  {
   "cell_type": "code",
   "execution_count": 3,
   "metadata": {},
   "outputs": [],
   "source": [
    "# Ative a iteração da placa , isto evita o transbordamento da porta serial (de 64 bytes)\n",
    "it = util.Iterator(placa)\n",
    "it.start()"
   ]
  },
  {
   "cell_type": "code",
   "execution_count": 4,
   "metadata": {
    "tags": []
   },
   "outputs": [
    {
     "name": "stdout",
     "output_type": "stream",
     "text": [
      "Valores dos LDRs e estado do botão: [0.5015, 0.4731, 0.4956, 'dia']\n",
      "Valores dos LDRs e estado do botão: [0.4751, 0.4301, 0.4712, 'dia']\n",
      "Valores dos LDRs e estado do botão: [0.5073, 0.4868, 0.5024, 'dia']\n",
      "Valores dos LDRs e estado do botão: [0.4858, 0.4917, 0.5044, 'dia']\n",
      "Valores dos LDRs e estado do botão: [0.478, 0.4467, 0.478, 'dia']\n",
      "Valores dos LDRs e estado do botão: [0.4819, 0.4555, 0.4829, 'dia']\n",
      "Valores dos LDRs e estado do botão: [0.4927, 0.4565, 0.4858, 'dia']\n",
      "Valores dos LDRs e estado do botão: [0.4731, 0.4321, 0.4721, 'dia']\n",
      "Valores dos LDRs e estado do botão: [0.4878, 0.4673, 0.4897, 'dia']\n",
      "Valores dos LDRs e estado do botão: [0.5073, 0.4917, 0.5044, 'dia']\n",
      "Valores dos LDRs e estado do botão: [0.4995, 0.4702, 0.4936, 'dia']\n",
      "Valores dos LDRs e estado do botão: [0.4809, 0.436, 0.4741, 'dia']\n",
      "Valores dos LDRs e estado do botão: [0.4839, 0.4604, 0.4848, 'dia']\n",
      "Valores dos LDRs e estado do botão: [0.5024, 0.4897, 0.5024, 'dia']\n",
      "Valores dos LDRs e estado do botão: [0.5054, 0.4858, 0.5005, 'dia']\n",
      "Valores dos LDRs e estado do botão: [0.4897, 0.4555, 0.4839, 'dia']\n",
      "Valores dos LDRs e estado do botão: [0.4731, 0.434, 0.4712, 'dia']\n",
      "Valores dos LDRs e estado do botão: [0.4858, 0.4663, 0.4878, 'dia']\n",
      "Valores dos LDRs e estado do botão: [0.1945, 0.2151, 0.2053, 'dia']\n",
      "Valores dos LDRs e estado do botão: [0.1593, 0.1613, 0.1417, 'noite']\n",
      "Valores dos LDRs e estado do botão: [0.2874, 0.1779, 0.1486, 'noite']\n",
      "Valores dos LDRs e estado do botão: [0.4682, 0.2072, 0.172, 'noite']\n",
      "Valores dos LDRs e estado do botão: [0.5171, 0.4907, 0.5034, 'noite']\n",
      "Valores dos LDRs e estado do botão: [0.1339, 0.1965, 0.1906, 'noite']\n",
      "Valores dos LDRs e estado do botão: [0.1593, 0.1994, 0.1799, 'noite']\n",
      "Valores dos LDRs e estado do botão: [0.2434, 0.219, 0.1926, 'noite']\n",
      "Valores dos LDRs e estado do botão: [0.4164, 0.1965, 0.1838, 'noite']\n",
      "Valores dos LDRs e estado do botão: [0.4536, 0.2199, 0.1877, 'noite']\n",
      "Valores dos LDRs e estado do botão: [0.4545, 0.2219, 0.1935, 'noite']\n",
      "Valores dos LDRs e estado do botão: [0.4399, 0.2033, 0.1828, 'noite']\n",
      "Valores dos LDRs e estado do botão: [0.4663, 0.2268, 0.1945, 'noite']\n",
      "Valores dos LDRs e estado do botão: [0.4497, 0.2297, 0.1975, 'noite']\n",
      "Valores dos LDRs e estado do botão: [0.434, 0.2053, 0.1867, 'noite']\n",
      "Valores dos LDRs e estado do botão: [0.4702, 0.3128, 0.2395, 'noite']\n",
      "Valores dos LDRs e estado do botão: [0.523, 0.4946, 0.5054, 'dia']\n",
      "Valores dos LDRs e estado do botão: [0.5064, 0.4829, 0.4966, 'dia']\n",
      "Valores dos LDRs e estado do botão: [0.5337, 0.5239, 0.521, 'dia']\n",
      "Valores dos LDRs e estado do botão: [0.52, 0.4868, 0.5024, 'dia']\n",
      "Valores dos LDRs e estado do botão: [0.477, 0.4448, 0.477, 'dia']\n",
      "Valores dos LDRs e estado do botão: [0.5034, 0.4927, 0.5034, 'dia']\n",
      "Valores dos LDRs e estado do botão: [0.4839, 0.4438, 0.478, 'dia']\n",
      "Valores dos LDRs e estado do botão: [0.4839, 0.4624, 0.4858, 'dia']\n",
      "Valores dos LDRs e estado do botão: [0.5073, 0.4907, 0.5034, 'dia']\n",
      "Valores dos LDRs e estado do botão: [0.4809, 0.4389, 0.4751, 'dia']\n",
      "Valores dos LDRs e estado do botão: [0.4868, 0.4673, 0.4878, 'dia']\n",
      "Valores dos LDRs e estado do botão: [0.5064, 0.4888, 0.5024, 'dia']\n",
      "Valores dos LDRs e estado do botão: [0.4751, 0.4389, 0.4741, 'dia']\n",
      "Valores dos LDRs e estado do botão: [0.5005, 0.4897, 0.5024, 'dia']\n",
      "Valores dos LDRs e estado do botão: [0.4761, 0.434, 0.4731, 'dia']\n",
      "Valores dos LDRs e estado do botão: [0.5015, 0.4907, 0.5024, 'dia']\n",
      "Valores dos LDRs e estado do botão: [0.4976, 0.4682, 0.4917, 'dia']\n",
      "Valores dos LDRs e estado do botão: [0.4741, 0.4389, 0.4741, 'dia']\n",
      "Valores dos LDRs e estado do botão: [0.4985, 0.4868, 0.5005, 'dia']\n",
      "Valores dos LDRs e estado do botão: [0.5005, 0.4751, 0.4956, 'dia']\n",
      "Valores dos LDRs e estado do botão: [0.4741, 0.435, 0.4731, 'dia']\n",
      "Valores dos LDRs e estado do botão: [0.5064, 0.4956, 0.5054, 'dia']\n",
      "Valores dos LDRs e estado do botão: [0.4936, 0.4614, 0.4878, 'dia']\n",
      "Valores dos LDRs e estado do botão: [0.5044, 0.4936, 0.5044, 'dia']\n",
      "Valores dos LDRs e estado do botão: [0.4956, 0.4633, 0.4888, 'dia']\n",
      "Valores dos LDRs e estado do botão: [0.4751, 0.4428, 0.4761, 'dia']\n",
      "Valores dos LDRs e estado do botão: [0.5122, 0.4995, 0.5132, 'dia']\n",
      "Valores dos LDRs e estado do botão: [0.5249, 0.4936, 0.5044, 'dia']\n",
      "Valores dos LDRs e estado do botão: [0.2199, 0.1593, 0.1584, 'dia']\n",
      "Valores dos LDRs e estado do botão: [0.2307, 0.1799, 0.1574, 'noite']\n",
      "Valores dos LDRs e estado do botão: [0.2424, 0.1603, 0.1398, 'noite']\n",
      "Valores dos LDRs e estado do botão: [0.1544, 0.1642, 0.13, 'noite']\n",
      "Valores dos LDRs e estado do botão: [0.2229, 0.1632, 0.1232, 'noite']\n",
      "Valores dos LDRs e estado do botão: [0.3636, 0.1584, 0.1222, 'noite']\n",
      "Valores dos LDRs e estado do botão: [0.4086, 0.1593, 0.1134, 'noite']\n",
      "Valores dos LDRs e estado do botão: [0.219, 0.1369, 0.1056, 'noite']\n",
      "Valores dos LDRs e estado do botão: [0.1769, 0.1447, 0.1007, 'noite']\n",
      "Valores dos LDRs e estado do botão: [0.1877, 0.1388, 0.0938, 'noite']\n",
      "Valores dos LDRs e estado do botão: [0.2786, 0.1427, 0.0919, 'noite']\n",
      "Valores dos LDRs e estado do botão: [0.2874, 0.1417, 0.0899, 'noite']\n",
      "Valores dos LDRs e estado do botão: [0.2043, 0.1339, 0.087, 'noite']\n",
      "Valores dos LDRs e estado do botão: [0.1124, 0.1408, 0.0811, 'noite']\n",
      "Valores dos LDRs e estado do botão: [0.1036, 0.1241, 0.0772, 'noite']\n",
      "Valores dos LDRs e estado do botão: [0.1046, 0.1329, 0.0782, 'noite']\n",
      "Valores dos LDRs e estado do botão: [0.1007, 0.1222, 0.0762, 'noite']\n",
      "Valores dos LDRs e estado do botão: [0.1046, 0.1339, 0.0772, 'noite']\n",
      "Valores dos LDRs e estado do botão: [0.1065, 0.1349, 0.0772, 'noite']\n",
      "Valores dos LDRs e estado do botão: [0.1026, 0.1212, 0.0743, 'noite']\n",
      "Valores dos LDRs e estado do botão: [0.1085, 0.1378, 0.0762, 'noite']\n",
      "Valores dos LDRs e estado do botão: [0.1085, 0.129, 0.0743, 'noite']\n",
      "Valores dos LDRs e estado do botão: [0.1036, 0.1232, 0.0733, 'noite']\n",
      "Valores dos LDRs e estado do botão: [0.1065, 0.131, 0.0723, 'noite']\n",
      "Valores dos LDRs e estado do botão: [0.0987, 0.1193, 0.0694, 'noite']\n",
      "Valores dos LDRs e estado do botão: [0.2532, 0.1779, 0.1222, 'dia']\n",
      "Valores dos LDRs e estado do botão: [0.5357, 0.522, 0.52, 'dia']\n",
      "Valores dos LDRs e estado do botão: [0.5122, 0.4761, 0.4966, 'dia']\n",
      "Valores dos LDRs e estado do botão: [0.5073, 0.4829, 0.4985, 'dia']\n",
      "Valores dos LDRs e estado do botão: [0.5064, 0.4966, 0.5073, 'dia']\n",
      "Valores dos LDRs e estado do botão: [0.4761, 0.4409, 0.4761, 'dia']\n",
      "Valores dos LDRs e estado do botão: [0.4946, 0.4809, 0.4976, 'dia']\n",
      "Valores dos LDRs e estado do botão: [0.5073, 0.4897, 0.5044, 'dia']\n",
      "Valores dos LDRs e estado do botão: [0.4897, 0.4526, 0.4839, 'dia']\n",
      "Valores dos LDRs e estado do botão: [0.477, 0.4438, 0.478, 'dia']\n",
      "Valores dos LDRs e estado do botão: [0.5054, 0.4936, 0.5064, 'dia']\n",
      "Valores dos LDRs e estado do botão: [0.5044, 0.4809, 0.4995, 'dia']\n",
      "Valores dos LDRs e estado do botão: [0.4829, 0.4418, 0.477, 'dia']\n",
      "Valores dos LDRs e estado do botão: [0.5073, 0.4497, 0.48, 'dia']\n",
      "Valores dos LDRs e estado do botão: [0.5015, 0.4761, 0.4966, 'dia']\n",
      "Valores dos LDRs e estado do botão: [0.479, 0.437, 0.4751, 'dia']\n",
      "Valores dos LDRs e estado do botão: [0.4829, 0.4604, 0.4858, 'dia']\n",
      "Valores dos LDRs e estado do botão: [0.5064, 0.4956, 0.5073, 'dia']\n",
      "Valores dos LDRs e estado do botão: [0.4897, 0.4526, 0.4839, 'dia']\n",
      "Valores dos LDRs e estado do botão: [0.478, 0.4477, 0.479, 'dia']\n",
      "Valores dos LDRs e estado do botão: [0.5015, 0.4897, 0.5034, 'dia']\n",
      "Valores dos LDRs e estado do botão: [0.5034, 0.479, 0.4985, 'dia']\n",
      "Valores dos LDRs e estado do botão: [0.4761, 0.436, 0.4741, 'dia']\n",
      "Valores dos LDRs e estado do botão: [0.5064, 0.4741, 0.4936, 'dia']\n",
      "Valores dos LDRs e estado do botão: [0.5005, 0.4731, 0.4956, 'dia']\n",
      "Valores dos LDRs e estado do botão: [0.4751, 0.437, 0.4751, 'dia']\n",
      "Valores dos LDRs e estado do botão: [0.4956, 0.4819, 0.4976, 'dia']\n",
      "Valores dos LDRs e estado do botão: [0.5054, 0.4829, 0.5005, 'dia']\n",
      "Valores dos LDRs e estado do botão: [0.478, 0.436, 0.4751, 'dia']\n",
      "Valores dos LDRs e estado do botão: [0.4888, 0.4712, 0.4917, 'dia']\n",
      "Valores dos LDRs e estado do botão: [0.5024, 0.477, 0.4976, 'dia']\n",
      "Valores dos LDRs e estado do botão: [0.477, 0.436, 0.4751, 'dia']\n",
      "Valores dos LDRs e estado do botão: [0.4917, 0.4751, 0.4946, 'dia']\n"
     ]
    },
    {
     "name": "stdout",
     "output_type": "stream",
     "text": [
      "Valores dos LDRs e estado do botão: [0.4809, 0.4389, 0.4761, 'dia']\n",
      "Valores dos LDRs e estado do botão: [0.4858, 0.4653, 0.4888, 'dia']\n",
      "Valores dos LDRs e estado do botão: [0.5093, 0.4956, 0.5073, 'dia']\n",
      "Valores dos LDRs e estado do botão: [0.4897, 0.4526, 0.4839, 'dia']\n",
      "Valores dos LDRs e estado do botão: [0.4819, 0.4555, 0.4829, 'dia']\n",
      "Valores dos LDRs e estado do botão: [0.5064, 0.4858, 0.5024, 'dia']\n",
      "Valores dos LDRs e estado do botão: [0.477, 0.434, 0.4731, 'dia']\n",
      "Valores dos LDRs e estado do botão: [0.5357, 0.52, 0.5181, 'dia']\n",
      "Valores dos LDRs e estado do botão: [0.5005, 0.4604, 0.4878, 'dia']\n",
      "Valores dos LDRs e estado do botão: [0.5259, 0.5132, 0.5161, 'dia']\n",
      "Valores dos LDRs e estado do botão: [0.5249, 0.4936, 0.5073, 'dia']\n",
      "Valores dos LDRs e estado do botão: [0.5034, 0.4692, 0.4917, 'dia']\n",
      "Valores dos LDRs e estado do botão: [0.521, 0.4868, 0.5034, 'dia']\n",
      "Valores dos LDRs e estado do botão: [0.5044, 0.4741, 0.4936, 'dia']\n",
      "Valores dos LDRs e estado do botão: [0.5337, 0.522, 0.521, 'dia']\n",
      "Valores dos LDRs e estado do botão: [0.521, 0.4858, 0.5034, 'dia']\n",
      "Valores dos LDRs e estado do botão: [0.5122, 0.4897, 0.5015, 'dia']\n",
      "Valores dos LDRs e estado do botão: [0.5357, 0.52, 0.52, 'dia']\n",
      "Valores dos LDRs e estado do botão: [0.5152, 0.4751, 0.4966, 'dia']\n",
      "Valores dos LDRs e estado do botão: [0.5064, 0.478, 0.4956, 'dia']\n",
      "Valores dos LDRs e estado do botão: [0.5337, 0.522, 0.521, 'dia']\n",
      "Valores dos LDRs e estado do botão: [0.4966, 0.4643, 0.4907, 'dia']\n",
      "Valores dos LDRs e estado do botão: [0.4848, 0.4643, 0.4878, 'dia']\n",
      "Valores dos LDRs e estado do botão: [0.4985, 0.4692, 0.4927, 'dia']\n",
      "Valores dos LDRs e estado do botão: [0.4761, 0.4428, 0.4819, 'dia']\n",
      "Valores dos LDRs e estado do botão: [0.5083, 0.4966, 0.5073, 'dia']\n",
      "Valores dos LDRs e estado do botão: [0.4878, 0.4516, 0.4829, 'dia']\n",
      "Valores dos LDRs e estado do botão: [0.4819, 0.4575, 0.4839, 'dia']\n",
      "Valores dos LDRs e estado do botão: [0.5083, 0.4966, 0.5073, 'dia']\n",
      "Valores dos LDRs e estado do botão: [0.4888, 0.4526, 0.4839, 'dia']\n"
     ]
    }
   ],
   "source": [
    "\n",
    "# Configura os pinos dos LDRs e do botão\n",
    "ldr1 = 1\n",
    "ldr2 = 2\n",
    "ldr3 = 3  # Pinos analógicos onde os LDRs estão conectados\n",
    "\n",
    "placa.analog[ldr1].enable_reporting()  # Habilita leitura do pino analógico\n",
    "placa.analog[ldr2].enable_reporting()  # Habilita leitura do pino analógico\n",
    "placa.analog[ldr3].enable_reporting()  # Habilita leitura do pino analógico\n",
    "\n",
    "# Configure o pino digital 2 como entrada digital\n",
    "botao = placa.get_pin('d:2:i')\n",
    "botao.enable_reporting()\n",
    "\n",
    "# Variável para rastrear o estado atual do botão (ligado/desligado)\n",
    "estado_botao = True\n",
    "estado_anterior = False\n",
    "\n",
    "try:\n",
    "    data_matrix = []  # Matriz para armazenar os dados\n",
    "    max_lines = 150  # Número máximo de linhas a serem lidas\n",
    "\n",
    "    while len(data_matrix) < max_lines:\n",
    "        time.sleep(.1)\n",
    "       \n",
    "        # Lê os valores dos LDRs\n",
    "        ldr1_valor = placa.analog[ldr1].read()\n",
    "        ldr2_valor = placa.analog[ldr2].read()\n",
    "        ldr3_valor = placa.analog[ldr3].read()\n",
    "        \n",
    "        # Verifica se o botão foi pressionado\n",
    "        estado_atual = botao.read()\n",
    "        if estado_atual and not estado_anterior:\n",
    "            # Alterna o estado do botão\n",
    "            estado_botao = not estado_botao\n",
    "            # Adiciona um pequeno atraso para permitir que dê tempo de tirar o dedo do botao\n",
    "            #time.sleep(0.1)\n",
    "            \n",
    "        estado_anterior = estado_atual\n",
    "\n",
    "        # Adiciona os dados à matriz\n",
    "        data_matrix.append([ldr1_valor, ldr2_valor, ldr3_valor, 'dia' if estado_botao else 'noite'])\n",
    "\n",
    "        # Imprime os valores lidos\n",
    "        print('Valores dos LDRs e estado do botão:', data_matrix[-1])\n",
    "\n",
    "        time.sleep(1)\n",
    "\n",
    "except KeyboardInterrupt:\n",
    "    board.exit()  # Encerra a comunicação com o Arduino ao sair do programa\n",
    "\n",
    "finally:\n",
    "    # Salva a matriz de dados em um arquivo CSV\n",
    "    colunas=['ldr1', 'ldr2', 'ldr3', 'botao']\n",
    "    df = pd.DataFrame(data_matrix,columns=colunas)\n",
    "    df.to_csv('data_matrix.csv', sep=',',encoding='utf-8', index=True)"
   ]
  },
  {
   "cell_type": "code",
   "execution_count": 5,
   "metadata": {},
   "outputs": [],
   "source": [
    "# Para carregar a matriz novamente\n",
    "df = pd.read_csv('data_matrix.csv', index_col=0)\n",
    "data_matrix = df.values"
   ]
  },
  {
   "cell_type": "code",
   "execution_count": 6,
   "metadata": {},
   "outputs": [
    {
     "name": "stdout",
     "output_type": "stream",
     "text": [
      "     ldr1    ldr2    ldr3 botao\n",
      "0  0.5015  0.4731  0.4956   dia\n",
      "1  0.4751  0.4301  0.4712   dia\n",
      "2  0.5073  0.4868  0.5024   dia\n",
      "3  0.4858  0.4917  0.5044   dia\n",
      "4  0.4780  0.4467  0.4780   dia\n"
     ]
    }
   ],
   "source": [
    "print(df.head())"
   ]
  },
  {
   "cell_type": "code",
   "execution_count": 7,
   "metadata": {},
   "outputs": [],
   "source": [
    "#Se está tudo ok você tem dados para treinar sua IA :) \n",
    "df = df.reset_index(drop=True)"
   ]
  },
  {
   "cell_type": "code",
   "execution_count": 8,
   "metadata": {},
   "outputs": [],
   "source": [
    "import matplotlib.pyplot as plt"
   ]
  },
  {
   "cell_type": "code",
   "execution_count": 9,
   "metadata": {},
   "outputs": [
    {
     "data": {
      "image/png": "[encoded data removed]",
      "text/plain": [
       "<matplotlib.figure.Figure at 0x7f8dbda27ef0>"
      ]
     },
     "metadata": {},
     "output_type": "display_data"
    }
   ],
   "source": [
    "df[['ldr1', 'ldr2', 'ldr3']].plot(kind='line')\n",
    "\n",
    "plt.title('Gráfico dos valores dos LDRs')\n",
    "plt.xlabel('Índice')\n",
    "plt.ylabel('Valor')\n",
    "\n",
    "plt.show()"
   ]
  },
  {
   "cell_type": "code",
   "execution_count": null,
   "metadata": {},
   "outputs": [],
   "source": [
    "df[['ldr1', 'ldr2', 'ldr3']].plot(kind='line')"
   ]
  }
 ],
 "metadata": {
  "kernelspec": {
   "display_name": "Python 3",
   "language": "python",
   "name": "python3"
  },
  "language_info": {
   "codemirror_mode": {
    "name": "ipython",
    "version": 3
   },
   "file_extension": ".py",
   "mimetype": "text/x-python",
   "name": "python",
   "nbconvert_exporter": "python",
   "pygments_lexer": "ipython3",
   "version": "3.5.4"
  }
 },
 "nbformat": 4,
 "nbformat_minor": 5
}
